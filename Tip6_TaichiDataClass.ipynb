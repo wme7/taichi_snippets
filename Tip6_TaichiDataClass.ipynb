{
 "cells": [
  {
   "cell_type": "markdown",
   "id": "1ea4f443",
   "metadata": {},
   "source": [
    "# ti.dataclass\n",
    "Ref: Yuanming Hu, Taichi Cookbook 001, 27.07.22"
   ]
  },
  {
   "cell_type": "markdown",
   "id": "4a3cec1c",
   "metadata": {},
   "source": [
    "It resembles `dataclasses.dataclass` introduced in Python 3.10 *but functions in Taichi kernels*."
   ]
  },
  {
   "cell_type": "code",
   "execution_count": 1,
   "id": "058cb590",
   "metadata": {},
   "outputs": [
    {
     "name": "stdout",
     "output_type": "stream",
     "text": [
      "[Taichi] version 1.7.3, llvm 15.0.4, commit 5ec301be, linux, python 3.12.9\n"
     ]
    },
    {
     "name": "stderr",
     "output_type": "stream",
     "text": [
      "[I 05/26/25 15:55:53.958 25988] [shell.py:_shell_pop_print@23] Graphical python shell detected, using wrapped sys.stdout\n"
     ]
    }
   ],
   "source": [
    "import taichi as ti\n",
    "import taichi.math as tm"
   ]
  },
  {
   "cell_type": "code",
   "execution_count": 2,
   "id": "e68db17d",
   "metadata": {},
   "outputs": [
    {
     "name": "stdout",
     "output_type": "stream",
     "text": [
      "[Taichi] Starting on arch=x64\n"
     ]
    }
   ],
   "source": [
    "ti.init()"
   ]
  },
  {
   "cell_type": "code",
   "execution_count": 3,
   "id": "c60740b3",
   "metadata": {},
   "outputs": [],
   "source": [
    "n_particles = 16"
   ]
  },
  {
   "cell_type": "code",
   "execution_count": 7,
   "id": "3393b95d",
   "metadata": {},
   "outputs": [],
   "source": [
    "@ti.dataclass\n",
    "class Particle:\n",
    "    x: ti.types.vector(2, ti.f32) # Position\n",
    "    v: ti.types.vector(2, ti.f32) # Velocity\n",
    "\n",
    "    @ti.func\n",
    "    def at(self, t):\n",
    "        return self.x + self.v * t\n",
    "    \n",
    "    @ti.func\n",
    "    def advance(self, dt):\n",
    "        self.x += self.at(dt)"
   ]
  },
  {
   "cell_type": "code",
   "execution_count": 8,
   "id": "6cddc2dc",
   "metadata": {},
   "outputs": [],
   "source": [
    "# Initialize particles \n",
    "particles = Particle.field(shape=(n_particles,))"
   ]
  },
  {
   "cell_type": "code",
   "execution_count": 10,
   "id": "7f4964ea",
   "metadata": {},
   "outputs": [],
   "source": [
    "@ti.kernel\n",
    "def simulate():\n",
    "    for i in particles:\n",
    "        particles[i].x = tm.vec2(i, i)\n",
    "        particles[i].v = tm.vec2(0, 100)\n",
    "\n",
    "    for i in range(n_particles):\n",
    "        particles[i].advance(5)"
   ]
  },
  {
   "cell_type": "code",
   "execution_count": 11,
   "id": "75e5be0b",
   "metadata": {},
   "outputs": [
    {
     "name": "stdout",
     "output_type": "stream",
     "text": [
      "[  0. 500.]\n",
      "[  2. 502.]\n",
      "[  4. 504.]\n",
      "[  6. 506.]\n",
      "[  8. 508.]\n",
      "[ 10. 510.]\n",
      "[ 12. 512.]\n",
      "[ 14. 514.]\n",
      "[ 16. 516.]\n",
      "[ 18. 518.]\n",
      "[ 20. 520.]\n",
      "[ 22. 522.]\n",
      "[ 24. 524.]\n",
      "[ 26. 526.]\n",
      "[ 28. 528.]\n",
      "[ 30. 530.]\n"
     ]
    }
   ],
   "source": [
    "# Run simulation\n",
    "simulate()\n",
    "\n",
    "for i in range(n_particles):\n",
    "    print(particles[i].x)"
   ]
  }
 ],
 "metadata": {
  "kernelspec": {
   "display_name": "ti17",
   "language": "python",
   "name": "python3"
  },
  "language_info": {
   "codemirror_mode": {
    "name": "ipython",
    "version": 3
   },
   "file_extension": ".py",
   "mimetype": "text/x-python",
   "name": "python",
   "nbconvert_exporter": "python",
   "pygments_lexer": "ipython3",
   "version": "3.12.9"
  }
 },
 "nbformat": 4,
 "nbformat_minor": 5
}
