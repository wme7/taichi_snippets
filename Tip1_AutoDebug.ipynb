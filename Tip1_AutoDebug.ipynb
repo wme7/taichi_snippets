{
 "cells": [
  {
   "cell_type": "markdown",
   "id": "e9ecc9a9",
   "metadata": {},
   "source": [
    "# Auto-debug out-of-bound array access\n",
    "Ref: Yuanming Hu, Taichi Cookbook 001, 27.07.22"
   ]
  },
  {
   "cell_type": "code",
   "execution_count": 1,
   "id": "3d7ccda3",
   "metadata": {},
   "outputs": [
    {
     "name": "stdout",
     "output_type": "stream",
     "text": [
      "[Taichi] version 1.7.3, llvm 15.0.4, commit 5ec301be, linux, python 3.12.9\n"
     ]
    },
    {
     "name": "stderr",
     "output_type": "stream",
     "text": [
      "[I 05/26/25 14:44:30.172 17658] [shell.py:_shell_pop_print@23] Graphical python shell detected, using wrapped sys.stdout\n"
     ]
    }
   ],
   "source": [
    "import taichi as ti"
   ]
  },
  {
   "cell_type": "code",
   "execution_count": 2,
   "id": "8142cdfc",
   "metadata": {},
   "outputs": [
    {
     "name": "stdout",
     "output_type": "stream",
     "text": [
      "[Taichi] Starting on arch=x64\n"
     ]
    }
   ],
   "source": [
    "# ti.init (arch=ti.cpu)\n",
    "ti.init (arch=ti.cpu, debug=True)"
   ]
  },
  {
   "cell_type": "code",
   "execution_count": 3,
   "id": "cbfdac48",
   "metadata": {},
   "outputs": [],
   "source": [
    "# Allocate a 2D field\n",
    "f = ti.field(dtype=ti.i32, shape=(32, 32))"
   ]
  },
  {
   "cell_type": "code",
   "execution_count": 4,
   "id": "d0565f0e",
   "metadata": {},
   "outputs": [],
   "source": [
    "@ti.kernel\n",
    "def test() -> ti.i32:\n",
    "    return f[0,73]\n"
   ]
  },
  {
   "cell_type": "markdown",
   "id": "9b4ac053",
   "metadata": {},
   "source": []
  },
  {
   "cell_type": "code",
   "execution_count": 5,
   "id": "3f8debbc",
   "metadata": {},
   "outputs": [
    {
     "ename": "TaichiAssertionError",
     "evalue": "\n(kernel=test_c76_0) Accessing field (S2place<i32>) of size (32, 32) with indices (0, 73)\nFile \"/tmp/ipykernel_16677/2279500357.py\", line 3, in test:\n    return f[0,73]\n           ^^^^^^^\n",
     "output_type": "error",
     "traceback": [
      "\u001b[31m---------------------------------------------------------------------------\u001b[39m",
      "\u001b[31mTaichiAssertionError\u001b[39m                      Traceback (most recent call last)",
      "\u001b[36mCell\u001b[39m\u001b[36m \u001b[39m\u001b[32mIn[5]\u001b[39m\u001b[32m, line 1\u001b[39m\n\u001b[32m----> \u001b[39m\u001b[32m1\u001b[39m \u001b[38;5;28mprint\u001b[39m(\u001b[43mtest\u001b[49m\u001b[43m(\u001b[49m\u001b[43m)\u001b[49m)\n",
      "\u001b[36mFile \u001b[39m\u001b[32m~/miniconda3/envs/ti17/lib/python3.12/site-packages/taichi/lang/kernel_impl.py:1117\u001b[39m, in \u001b[36m_kernel_impl.<locals>.wrapped\u001b[39m\u001b[34m(*args, **kwargs)\u001b[39m\n\u001b[32m   1115\u001b[39m \u001b[38;5;28;01mif\u001b[39;00m impl.get_runtime().print_full_traceback:\n\u001b[32m   1116\u001b[39m     \u001b[38;5;28;01mraise\u001b[39;00m e\n\u001b[32m-> \u001b[39m\u001b[32m1117\u001b[39m \u001b[38;5;28;01mraise\u001b[39;00m \u001b[38;5;28mtype\u001b[39m(e)(\u001b[33m\"\u001b[39m\u001b[38;5;130;01m\\n\u001b[39;00m\u001b[33m\"\u001b[39m + \u001b[38;5;28mstr\u001b[39m(e)) \u001b[38;5;28;01mfrom\u001b[39;00m\u001b[38;5;250m \u001b[39m\u001b[38;5;28;01mNone\u001b[39;00m\n",
      "\u001b[31mTaichiAssertionError\u001b[39m: \n(kernel=test_c76_0) Accessing field (S2place<i32>) of size (32, 32) with indices (0, 73)\nFile \"/tmp/ipykernel_16677/2279500357.py\", line 3, in test:\n    return f[0,73]\n           ^^^^^^^\n"
     ]
    }
   ],
   "source": [
    "print(test())"
   ]
  },
  {
   "cell_type": "markdown",
   "id": "ad50c5b2",
   "metadata": {},
   "source": [
    "To sum up:\n",
    "1. Bound checks are *not* available until you enable `debug=True`.\n",
    "2. Only `ti.cpu` and `ti.cuda` are supported for bounds checking.\n",
    "3. Program performance may worsen after `debug=True` is turned on."
   ]
  }
 ],
 "metadata": {
  "kernelspec": {
   "display_name": "ti17",
   "language": "python",
   "name": "python3"
  },
  "language_info": {
   "codemirror_mode": {
    "name": "ipython",
    "version": 3
   },
   "file_extension": ".py",
   "mimetype": "text/x-python",
   "name": "python",
   "nbconvert_exporter": "python",
   "pygments_lexer": "ipython3",
   "version": "3.12.9"
  }
 },
 "nbformat": 4,
 "nbformat_minor": 5
}
