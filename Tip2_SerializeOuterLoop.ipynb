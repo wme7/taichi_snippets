{
 "cells": [
  {
   "cell_type": "markdown",
   "id": "734ba3ce",
   "metadata": {},
   "source": [
    "# Serialize the outermost for loop\n",
    "Ref: Yuanming Hu, Taichi Cookbook 001, 27.07.22"
   ]
  },
  {
   "cell_type": "code",
   "execution_count": 1,
   "id": "806b907b",
   "metadata": {},
   "outputs": [
    {
     "name": "stdout",
     "output_type": "stream",
     "text": [
      "[Taichi] version 1.7.3, llvm 15.0.4, commit 5ec301be, linux, python 3.12.9\n"
     ]
    },
    {
     "name": "stderr",
     "output_type": "stream",
     "text": [
      "[I 05/26/25 15:28:48.676 22516] [shell.py:_shell_pop_print@23] Graphical python shell detected, using wrapped sys.stdout\n"
     ]
    }
   ],
   "source": [
    "import taichi as ti"
   ]
  },
  {
   "cell_type": "code",
   "execution_count": 2,
   "id": "efcb80d3",
   "metadata": {},
   "outputs": [
    {
     "name": "stdout",
     "output_type": "stream",
     "text": [
      "[Taichi] Starting on arch=x64\n"
     ]
    }
   ],
   "source": [
    "ti.init(arch=ti.cpu)"
   ]
  },
  {
   "cell_type": "code",
   "execution_count": 3,
   "id": "2caddf1e",
   "metadata": {},
   "outputs": [],
   "source": [
    "# Initialize a field\n",
    "n = 1024\n",
    "val = ti.field(ti.i32, shape=n)\n",
    "val.fill(1)"
   ]
  },
  {
   "cell_type": "code",
   "execution_count": 4,
   "id": "4780fa39",
   "metadata": {},
   "outputs": [
    {
     "name": "stdout",
     "output_type": "stream",
     "text": [
      "Help on function loop_config in module taichi.lang.misc:\n",
      "\n",
      "loop_config(*, block_dim=None, serialize=False, parallelize=None, block_dim_adaptive=True, bit_vectorize=False)\n",
      "    Sets directives for the next loop\n",
      "\n",
      "    Args:\n",
      "        block_dim (int): The number of threads in a block on GPU\n",
      "        serialize (bool): Whether to let the for loop execute serially, `serialize=True` equals to `parallelize=1`\n",
      "        parallelize (int): The number of threads to use on CPU\n",
      "        block_dim_adaptive (bool): Whether to allow backends set block_dim adaptively, enabled by default\n",
      "        bit_vectorize (bool): Whether to enable bit vectorization of struct fors on quant_arrays.\n",
      "\n",
      "    Examples::\n",
      "\n",
      "        @ti.kernel\n",
      "        def break_in_serial_for() -> ti.i32:\n",
      "            a = 0\n",
      "            ti.loop_config(serialize=True)\n",
      "            for i in range(100):  # This loop runs serially\n",
      "                a += i\n",
      "                if i == 10:\n",
      "                    break\n",
      "            return a\n",
      "\n",
      "        break_in_serial_for()  # returns 55\n",
      "\n",
      "        n = 128\n",
      "        val = ti.field(ti.i32, shape=n)\n",
      "        @ti.kernel\n",
      "        def fill():\n",
      "            ti.loop_config(parallelize=8, block_dim=16)\n",
      "            # If the kernel is run on the CPU backend, 8 threads will be used to run it\n",
      "            # If the kernel is run on the CUDA backend, each block will have 16 threads.\n",
      "            for i in range(n):\n",
      "                val[i] = i\n",
      "\n",
      "        u1 = ti.types.quant.int(bits=1, signed=False)\n",
      "        x = ti.field(dtype=u1)\n",
      "        y = ti.field(dtype=u1)\n",
      "        cell = ti.root.dense(ti.ij, (128, 4))\n",
      "        cell.quant_array(ti.j, 32).place(x)\n",
      "        cell.quant_array(ti.j, 32).place(y)\n",
      "        @ti.kernel\n",
      "        def copy():\n",
      "            ti.loop_config(bit_vectorize=True)\n",
      "            # 32 bits, instead of 1 bit, will be copied at a time\n",
      "            for i, j in x:\n",
      "                y[i, j] = x[i, j]\n",
      "\n"
     ]
    }
   ],
   "source": [
    "help(ti.loop_config)"
   ]
  },
  {
   "cell_type": "code",
   "execution_count": 5,
   "id": "60e6e667",
   "metadata": {},
   "outputs": [
    {
     "name": "stdout",
     "output_type": "stream",
     "text": [
      "[   1    2    3 ... 1022 1023 1024]\n"
     ]
    }
   ],
   "source": [
    "@ti.kernel\n",
    "def prefix_sum():\n",
    "    ti.loop_config(serialize=True)\n",
    "    for i in range(0, n - 1):\n",
    "        val[i + 1] += val[i]\n",
    "\n",
    "prefix_sum()\n",
    "print(val)"
   ]
  }
 ],
 "metadata": {
  "kernelspec": {
   "display_name": "ti17",
   "language": "python",
   "name": "python3"
  },
  "language_info": {
   "codemirror_mode": {
    "name": "ipython",
    "version": 3
   },
   "file_extension": ".py",
   "mimetype": "text/x-python",
   "name": "python",
   "nbconvert_exporter": "python",
   "pygments_lexer": "ipython3",
   "version": "3.12.9"
  }
 },
 "nbformat": 4,
 "nbformat_minor": 5
}
